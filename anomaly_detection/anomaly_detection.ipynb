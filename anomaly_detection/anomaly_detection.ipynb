{
  "nbformat": 4,
  "nbformat_minor": 0,
  "metadata": {
    "colab": {
      "name": "anomaly_detection.ipynb",
      "version": "0.3.2",
      "provenance": [],
      "collapsed_sections": []
    },
    "kernelspec": {
      "name": "python3",
      "display_name": "Python 3"
    }
  },
  "cells": [
    {
      "metadata": {
        "id": "IsFiU7C7jQAN",
        "colab_type": "code",
        "colab": {
          "resources": {
            "http://localhost:8080/nbextensions/google.colab/files.js": {
              "data": "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",
              "ok": true,
              "headers": [
                [
                  "content-type",
                  "application/javascript"
                ]
              ],
              "status": 200,
              "status_text": ""
            }
          },
          "base_uri": "https://localhost:8080/",
          "height": 109
        },
        "outputId": "f3776d98-8738-4f76-987e-6680d89769e0"
      },
      "cell_type": "code",
      "source": [
        "from google.colab import files\n",
        "files.upload()"
      ],
      "execution_count": 1,
      "outputs": [
        {
          "output_type": "display_data",
          "data": {
            "text/html": [
              "\n",
              "     <input type=\"file\" id=\"files-3a6ff758-bd4f-4780-80be-00cf24cd318c\" name=\"files[]\" multiple disabled />\n",
              "     <output id=\"result-3a6ff758-bd4f-4780-80be-00cf24cd318c\">\n",
              "      Upload widget is only available when the cell has been executed in the\n",
              "      current browser session. Please rerun this cell to enable.\n",
              "      </output>\n",
              "      <script src=\"/nbextensions/google.colab/files.js\"></script> "
            ],
            "text/plain": [
              "<IPython.core.display.HTML object>"
            ]
          },
          "metadata": {
            "tags": []
          }
        },
        {
          "output_type": "stream",
          "text": [
            "Saving tr_server_data.csv to tr_server_data.csv\n"
          ],
          "name": "stdout"
        },
        {
          "output_type": "execute_result",
          "data": {
            "text/plain": [
              "{'tr_server_data.csv': b'13.047,14.741\\n13.409,13.763\\n14.196,15.853\\n14.915,16.174\\n13.577,14.043\\n13.922,13.406\\n12.822,14.223\\n15.676,15.892\\n16.163,16.203\\n12.666,14.899\\n13.985,12.958\\n14.061,14.549\\n13.39,15.562\\n13.394,15.627\\n13.979,13.281\\n14.168,14.466\\n13.962,14.752\\n14.459,15.07\\n14.585,15.827\\n12.074,13.067\\n13.549,15.538\\n13.986,14.788\\n14.97,16.518\\n14.256,15.294\\n15.334,16.125\\n15.635,16.491\\n13.621,15.459\\n14.815,15.34\\n14.593,14.612\\n14.489,15.641\\n15.527,14.636\\n13.975,14.765\\n12.954,14.823\\n12.888,15.076\\n16.022,16.257\\n14.926,16.297\\n12.466,14.183\\n14.085,14.442\\n14.537,14.242\\n14.223,15.424\\n14.519,13.999\\n13.12,14.661\\n14.511,15.305\\n14.183,15.394\\n14.717,15.734\\n13.835,16.171\\n16.001,14.692\\n14.127,15.915\\n13.846,14.341\\n15.414,16.242\\n13.253,15.009\\n13.668,14.359\\n13.775,14.738\\n14.126,14.93\\n14.547,15.633\\n14.153,14.536\\n14.126,15.345\\n14.263,14.986\\n14.773,15.253\\n14.21,16.146\\n13.261,15.48\\n14.253,15.031\\n12.921,13.193\\n13.852,13.332\\n13.969,13.198\\n13.252,15.368\\n13.704,13.214\\n14.509,15.461\\n15.69,16.482\\n12.956,12.437\\n13.593,14.842\\n15.129,17.15\\n14.267,15.676\\n15.661,14.811\\n14.34,15.492\\n14.276,14.706\\n14.86,15.59\\n14.104,15.181\\n15.988,15.621\\n13.475,15.593\\n13.776,14.992\\n12.828,15.671\\n13.672,15.12\\n15.387,15.569\\n15.543,15.515\\n13.853,15.607\\n13.625,14.452\\n15.016,14.917\\n13.836,15.249\\n14.227,14.348\\n13.237,14.611\\n13.385,14.733\\n13.871,14.974\\n12.394,14.644\\n14.322,14.529\\n15.83,15.716\\n15.802,16.018\\n14.698,14.112\\n14.706,16.46\\n13.592,14.92\\n12.3,14.771\\n13.399,16.119\\n15.131,15.9\\n15.386,15.715\\n15.455,15.44\\n13.75,15.268\\n15.699,16.056\\n14.806,14.333\\n15.172,16.706\\n11.249,15.133\\n13.888,14.485\\n15.326,16.585\\n12.975,15.161\\n14.074,17.22\\n14.182,17.834\\n12.24,14.729\\n14.826,15.945\\n13.098,16.23\\n13.858,15.035\\n15.525,16.787\\n15.315,14.568\\n14.03,15.663\\n14.423,14.941\\n13.636,14.964\\n14.535,13.356\\n14.616,14.152\\n13.081,14.028\\n14.939,14.549\\n16.027,15.71\\n14.319,15.118\\n14.862,14.285\\n14.014,16.78\\n13.408,14.6\\n13.08,14.194\\n12.688,13.811\\n14.192,15.365\\n14.866,14.471\\n13.394,14.344\\n13.587,14.391\\n13.102,14.376\\n14.542,16.372\\n14.256,15.042\\n16.188,16.361\\n13.633,13.629\\n14.653,14.976\\n12.619,16.772\\n13.034,14.257\\n10.859,14.479\\n12.935,14.607\\n13.992,14.962\\n12.572,15.197\\n15.683,16.221\\n13.213,14.352\\n13.99,14.524\\n13.466,13.658\\n13.132,15.799\\n14.354,15.023\\n13.553,13.732\\n12.986,14.81\\n14.373,14.951\\n13.589,15.198\\n12.26,15.614\\n13.666,16.445\\n14.346,15.449\\n14.607,15.777\\n14.154,16.574\\n14.049,14.391\\n14.069,14.624\\n15.889,16.337\\n13.976,15.842\\n10.882,13.462\\n13.909,14.977\\n12.368,15.142\\n15.168,15.519\\n15.338,14.233\\n13.551,15.73\\n13.579,15.473\\n14.245,15.085\\n15.331,15.711\\n15.917,15.157\\n13.854,15.321\\n14.087,14.307\\n12.636,15.651\\n14.363,13.872\\n14.501,14.618\\n13.97,16.173\\n15.131,15.289\\n15.153,14.014\\n13.31,14.391\\n14.257,14.297\\n13.716,13.527\\n15.701,15.996\\n13.389,14.365\\n14.141,13.974\\n14.845,14.017\\n12.705,14.273\\n14.954,14.732\\n14.281,14.613\\n13.068,14.833\\n13.603,12.203\\n12.688,15.811\\n13.883,14.118\\n14.016,14.335\\n15.366,15.826\\n13.578,14.88\\n13.392,14.345\\n13.694,15.922\\n12.879,13.202\\n13.699,15.418\\n14.016,15.822\\n14.59,16.381\\n15.008,15.51\\n14.06,13.758\\n14.461,13.344\\n14.645,15.039\\n13.855,15.866\\n14.281,14.023\\n14.933,14.326\\n13.769,16.513\\n13.444,15.079\\n14.032,14.41\\n13.819,15.587\\n16.507,15.22\\n12.204,14.321\\n14.882,16.362\\n15.16,15.15\\n11.788,14.55\\n12.884,14.573\\n13.62,16.424\\n14.53,15.447\\n12.646,15.108\\n15.548,16.432\\n14.401,15.213\\n15.211,14.935\\n15.062,15.117\\n14.862,14.702\\n15.405,15.345\\n13.794,14.687\\n14.634,16.301\\n12.457,15.546\\n13.998,16.736\\n12.933,12.624\\n13.703,14.715\\n13.124,15.448\\n13.817,14.092\\n13.025,14.251\\n14.534,15.766\\n13.252,16.323\\n13.237,15.337\\n12.13,12.667\\n14.381,16.031\\n15.982,15.524\\n13.751,13.643\\n13.357,13.424\\n13.086,14.868\\n13.612,14.868\\n15.178,14.154\\n14.155,15.287\\n13.225,13.96\\n13.942,14.76\\n15.391,15.714\\n13.176,13.674\\n13.387,14.665\\n15.159,14.782\\n14.556,14.049\\n14.627,14.296\\n13.286,15.658\\n13.815,14.172\\n14.311,16.254\\n13.536,15.77\\n14.801,13.818\\n13.773,14.65\\n13.765,15.023\\n14.053,13.939\\n15.309,16.042\\n13.155,16.921\\n12.699,13.999\\n14.368,16.758\\n13.263,14.099\\n11.913,14.613\\n13.37,15.183\\n15.995,15.453\\n14.158,13.771\\n14.97,15.592\\n14.751,15.469\\n13.33,14.347\\n13.05,14.687\\n13.776,14.236\\n15.174,15.51\\n14.213,15.083\\n13.821,15.611\\n14.124,14.955\\n14.548,14.859\\n14.099,16.031\\n14.577,14.257\\n14.523,14.23\\n14.3,15.266\\n14.558,15.487\\n14.225,15.861\\n12.04,13.345\\n13.079,9.3479\\n21.727,4.1262\\n12.477,14.459\\n19.583,10.412\\n23.34,16.299\\n18.261,17.978\\n4.7526,24.35\\n'}"
            ]
          },
          "metadata": {
            "tags": []
          },
          "execution_count": 1
        }
      ]
    },
    {
      "metadata": {
        "id": "QCPw0cmwkNnC",
        "colab_type": "code",
        "colab": {}
      },
      "cell_type": "code",
      "source": [
        "import numpy as np\n",
        "import pandas as pd\n",
        "import matplotlib.pyplot as mlt\n",
        "%matplotlib inline\n",
        "mlt.style.use('ggplot')"
      ],
      "execution_count": 0,
      "outputs": []
    },
    {
      "metadata": {
        "id": "Q7evE8yLknXZ",
        "colab_type": "code",
        "colab": {}
      },
      "cell_type": "code",
      "source": [
        "data=pd.read_csv(\"tr_server_data.csv\")"
      ],
      "execution_count": 0,
      "outputs": []
    },
    {
      "metadata": {
        "id": "h1Rji4nDkvVT",
        "colab_type": "code",
        "colab": {
          "base_uri": "https://localhost:8080/",
          "height": 218
        },
        "outputId": "a027821e-a108-4cbf-efec-e720ef64be6e"
      },
      "cell_type": "code",
      "source": [
        "data.head()"
      ],
      "execution_count": 34,
      "outputs": [
        {
          "output_type": "execute_result",
          "data": {
            "text/html": [
              "<div>\n",
              "<style scoped>\n",
              "    .dataframe tbody tr th:only-of-type {\n",
              "        vertical-align: middle;\n",
              "    }\n",
              "\n",
              "    .dataframe tbody tr th {\n",
              "        vertical-align: top;\n",
              "    }\n",
              "\n",
              "    .dataframe thead th {\n",
              "        text-align: right;\n",
              "    }\n",
              "</style>\n",
              "<table border=\"1\" class=\"dataframe\">\n",
              "  <thead>\n",
              "    <tr style=\"text-align: right;\">\n",
              "      <th></th>\n",
              "      <th></th>\n",
              "    </tr>\n",
              "    <tr>\n",
              "      <th>13.047</th>\n",
              "      <th>14.741</th>\n",
              "    </tr>\n",
              "  </thead>\n",
              "  <tbody>\n",
              "    <tr>\n",
              "      <th>13.409</th>\n",
              "      <th>13.763</th>\n",
              "    </tr>\n",
              "    <tr>\n",
              "      <th>14.196</th>\n",
              "      <th>15.853</th>\n",
              "    </tr>\n",
              "    <tr>\n",
              "      <th>14.915</th>\n",
              "      <th>16.174</th>\n",
              "    </tr>\n",
              "    <tr>\n",
              "      <th>13.577</th>\n",
              "      <th>14.043</th>\n",
              "    </tr>\n",
              "    <tr>\n",
              "      <th>13.922</th>\n",
              "      <th>13.406</th>\n",
              "    </tr>\n",
              "  </tbody>\n",
              "</table>\n",
              "</div>"
            ],
            "text/plain": [
              "Empty DataFrame\n",
              "Columns: []\n",
              "Index: [(13.409, 13.763), (14.196, 15.853), (14.915, 16.174), (13.577, 14.043), (13.922, 13.405999999999999)]"
            ]
          },
          "metadata": {
            "tags": []
          },
          "execution_count": 34
        }
      ]
    },
    {
      "metadata": {
        "id": "ItfYl6Dskw2K",
        "colab_type": "code",
        "colab": {}
      },
      "cell_type": "code",
      "source": [
        "from sklearn.svm import OneClassSVM"
      ],
      "execution_count": 0,
      "outputs": []
    },
    {
      "metadata": {
        "id": "shD4wXEAk4rL",
        "colab_type": "code",
        "colab": {}
      },
      "cell_type": "code",
      "source": [
        "model=OneClassSVM(nu=0.05, kernel=\"rbf\", gamma=0.1)"
      ],
      "execution_count": 0,
      "outputs": []
    },
    {
      "metadata": {
        "id": "XsMgbak3k_s0",
        "colab_type": "code",
        "colab": {
          "base_uri": "https://localhost:8080/",
          "height": 68
        },
        "outputId": "f53428ed-6cfd-4a6f-8ac7-fddcc7069e91"
      },
      "cell_type": "code",
      "source": [
        "model.fit(data)"
      ],
      "execution_count": 49,
      "outputs": [
        {
          "output_type": "execute_result",
          "data": {
            "text/plain": [
              "OneClassSVM(cache_size=200, coef0=0.0, degree=3, gamma=0.1, kernel='rbf',\n",
              "      max_iter=-1, nu=0.05, random_state=None, shrinking=True, tol=0.001,\n",
              "      verbose=False)"
            ]
          },
          "metadata": {
            "tags": []
          },
          "execution_count": 49
        }
      ]
    },
    {
      "metadata": {
        "id": "V7GSTWV2lEil",
        "colab_type": "code",
        "colab": {}
      },
      "cell_type": "code",
      "source": [
        "predict=model.predict(data)"
      ],
      "execution_count": 0,
      "outputs": []
    },
    {
      "metadata": {
        "id": "gg933aEalJu3",
        "colab_type": "code",
        "colab": {
          "base_uri": "https://localhost:8080/",
          "height": 323
        },
        "outputId": "4bd8d9d8-7f97-42a0-8e96-85ce994a1efd"
      },
      "cell_type": "code",
      "source": [
        "predict"
      ],
      "execution_count": 51,
      "outputs": [
        {
          "output_type": "execute_result",
          "data": {
            "text/plain": [
              "array([ 1,  1,  1,  1,  1,  1,  1,  1,  1,  1,  1,  1,  1,  1,  1,  1,  1,\n",
              "        1,  1,  1,  1,  1,  1,  1,  1,  1,  1,  1,  1,  1,  1,  1,  1,  1,\n",
              "        1,  1,  1,  1,  1,  1,  1,  1,  1,  1,  1, -1,  1,  1,  1,  1,  1,\n",
              "        1,  1,  1,  1,  1,  1,  1,  1,  1,  1,  1,  1,  1,  1,  1,  1,  1,\n",
              "        1,  1, -1,  1,  1,  1,  1,  1,  1,  1,  1,  1,  1,  1,  1,  1,  1,\n",
              "        1,  1,  1,  1,  1,  1,  1,  1,  1,  1,  1,  1,  1,  1,  1,  1,  1,\n",
              "        1,  1,  1,  1,  1,  1, -1,  1,  1,  1, -1, -1,  1,  1,  1,  1,  1,\n",
              "        1,  1,  1,  1, -1,  1,  1,  1,  1,  1,  1,  1,  1,  1,  1,  1,  1,\n",
              "        1,  1,  1,  1,  1,  1,  1,  1, -1,  1, -1,  1,  1,  1,  1,  1,  1,\n",
              "        1,  1,  1,  1,  1,  1,  1,  1,  1,  1,  1,  1,  1,  1,  1,  1, -1,\n",
              "        1,  1,  1,  1,  1,  1,  1,  1,  1,  1,  1,  1,  1,  1,  1,  1,  1,\n",
              "        1,  1,  1,  1,  1,  1,  1,  1,  1,  1,  1, -1,  1,  1,  1,  1,  1,\n",
              "        1,  1,  1,  1,  1,  1,  1,  1,  1,  1,  1,  1,  1,  1,  1,  1,  1,\n",
              "       -1,  1,  1,  1,  1,  1,  1,  1,  1,  1,  1,  1,  1,  1,  1,  1,  1,\n",
              "        1,  1,  1,  1,  1,  1,  1,  1,  1,  1,  1,  1,  1,  1,  1,  1,  1,\n",
              "        1,  1,  1,  1,  1,  1,  1,  1,  1,  1,  1,  1,  1,  1,  1,  1,  1,\n",
              "        1,  1,  1,  1,  1,  1,  1,  1,  1,  1,  1,  1,  1,  1,  1,  1,  1,\n",
              "        1,  1,  1,  1,  1,  1,  1,  1,  1,  1, -1, -1,  1, -1, -1, -1, -1])"
            ]
          },
          "metadata": {
            "tags": []
          },
          "execution_count": 51
        }
      ]
    },
    {
      "metadata": {
        "id": "OuAJDlS4lREs",
        "colab_type": "code",
        "colab": {
          "base_uri": "https://localhost:8080/",
          "height": 1105
        },
        "outputId": "aab36eba-54a7-46a1-86ba-c7b7e36e5857"
      },
      "cell_type": "code",
      "source": [
        "correct=data[predict==1]\n",
        "anomaly=data[predict==-1]\n",
        "print(correct)"
      ],
      "execution_count": 58,
      "outputs": [
        {
          "output_type": "stream",
          "text": [
            "     13.047  14.741\n",
            "0    13.409  13.763\n",
            "1    14.196  15.853\n",
            "2    14.915  16.174\n",
            "3    13.577  14.043\n",
            "4    13.922  13.406\n",
            "5    12.822  14.223\n",
            "6    15.676  15.892\n",
            "7    16.163  16.203\n",
            "8    12.666  14.899\n",
            "9    13.985  12.958\n",
            "10   14.061  14.549\n",
            "11   13.390  15.562\n",
            "12   13.394  15.627\n",
            "13   13.979  13.281\n",
            "14   14.168  14.466\n",
            "15   13.962  14.752\n",
            "16   14.459  15.070\n",
            "17   14.585  15.827\n",
            "18   12.074  13.067\n",
            "19   13.549  15.538\n",
            "20   13.986  14.788\n",
            "21   14.970  16.518\n",
            "22   14.256  15.294\n",
            "23   15.334  16.125\n",
            "24   15.635  16.491\n",
            "25   13.621  15.459\n",
            "26   14.815  15.340\n",
            "27   14.593  14.612\n",
            "28   14.489  15.641\n",
            "29   15.527  14.636\n",
            "..      ...     ...\n",
            "270  13.773  14.650\n",
            "271  13.765  15.023\n",
            "272  14.053  13.939\n",
            "273  15.309  16.042\n",
            "274  13.155  16.921\n",
            "275  12.699  13.999\n",
            "276  14.368  16.758\n",
            "277  13.263  14.099\n",
            "278  11.913  14.613\n",
            "279  13.370  15.183\n",
            "280  15.995  15.453\n",
            "281  14.158  13.771\n",
            "282  14.970  15.592\n",
            "283  14.751  15.469\n",
            "284  13.330  14.347\n",
            "285  13.050  14.687\n",
            "286  13.776  14.236\n",
            "287  15.174  15.510\n",
            "288  14.213  15.083\n",
            "289  13.821  15.611\n",
            "290  14.124  14.955\n",
            "291  14.548  14.859\n",
            "292  14.099  16.031\n",
            "293  14.577  14.257\n",
            "294  14.523  14.230\n",
            "295  14.300  15.266\n",
            "296  14.558  15.487\n",
            "297  14.225  15.861\n",
            "298  12.040  13.345\n",
            "301  12.477  14.459\n",
            "\n",
            "[289 rows x 2 columns]\n"
          ],
          "name": "stdout"
        }
      ]
    },
    {
      "metadata": {
        "id": "QNU86r0rlXuP",
        "colab_type": "code",
        "colab": {
          "base_uri": "https://localhost:8080/",
          "height": 299
        },
        "outputId": "6259f479-bae6-48f6-d6a2-35afcac18d0a"
      },
      "cell_type": "code",
      "source": [
        "mlt.figure(figsize=(10,10))\n",
        "mlt.figure()\n",
        "mlt.plot(correct.iloc[:,0],correct.iloc[:,1],'bo')\n",
        "mlt.plot(anomaly.iloc[:,0],anomaly.iloc[:,1],'ro')\n",
        "mlt.xlabel('Latency (ms)')\n",
        "mlt.ylabel('Throughput (mb/s)')\n",
        "mlt.show()"
      ],
      "execution_count": 63,
      "outputs": [
        {
          "output_type": "display_data",
          "data": {
            "text/plain": [
              "<matplotlib.figure.Figure at 0x7f9b9c398400>"
            ]
          },
          "metadata": {
            "tags": []
          }
        },
        {
          "output_type": "display_data",
          "data": {
            "image/png": "[encoded data removed]",
            "text/plain": [
              "<matplotlib.figure.Figure at 0x7f9b9c398198>"
            ]
          },
          "metadata": {
            "tags": []
          }
        }
      ]
    },
    {
      "metadata": {
        "id": "bacxXjuMlk5k",
        "colab_type": "code",
        "colab": {
          "base_uri": "https://localhost:8080/",
          "height": 281
        },
        "outputId": "bb1d811b-a55d-4e65-e5a1-5fbc49567c75"
      },
      "cell_type": "code",
      "source": [
        ""
      ],
      "execution_count": 56,
      "outputs": [
        {
          "output_type": "display_data",
          "data": {
            "image/png": "[encoded data removed]",
            "text/plain": [
              "<matplotlib.figure.Figure at 0x7f9b9eee52b0>"
            ]
          },
          "metadata": {
            "tags": []
          }
        }
      ]
    },
    {
      "metadata": {
        "id": "9Gv6l-v5mAK2",
        "colab_type": "code",
        "colab": {}
      },
      "cell_type": "code",
      "source": [
        ""
      ],
      "execution_count": 0,
      "outputs": []
    }
  ]
}