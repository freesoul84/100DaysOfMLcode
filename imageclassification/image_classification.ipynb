{
  "nbformat": 4,
  "nbformat_minor": 0,
  "metadata": {
    "colab": {
      "name": "image_classification.ipynb",
      "version": "0.3.2",
      "provenance": [],
      "toc_visible": true,
      "include_colab_link": true
    },
    "kernelspec": {
      "name": "python3",
      "display_name": "Python 3"
    },
    "accelerator": "GPU"
  },
  "cells": [
    {
      "cell_type": "markdown",
      "metadata": {
        "id": "view-in-github",
        "colab_type": "text"
      },
      "source": [
        "<a href=\"https://colab.research.google.com/github/keshab97/100DaysOfMLcode/blob/master/imageclassification/image_classification.ipynb\" target=\"_parent\"><img src=\"https://colab.research.google.com/assets/colab-badge.svg\" alt=\"Open In Colab\"/></a>"
      ]
    },
    {
      "metadata": {
        "id": "zGjyee6gTPiY",
        "colab_type": "code",
        "colab": {
          "base_uri": "https://localhost:8080/",
          "height": 34
        },
        "outputId": "36bc88c4-840b-46e8-b2ac-6ddc26d916cf"
      },
      "cell_type": "code",
      "source": [
        "#using keras with tensorflow as backend\n",
        "from keras.layers import Conv2D\n",
        "from keras.layers import MaxPooling2D\n",
        "from keras.layers import Flatten\n",
        "from keras.layers import Dense\n",
        "from keras.models import Sequential"
      ],
      "execution_count": 2,
      "outputs": [
        {
          "output_type": "stream",
          "text": [
            "Using TensorFlow backend.\n"
          ],
          "name": "stderr"
        }
      ]
    },
    {
      "metadata": {
        "id": "oGK4ECkkTRGP",
        "colab_type": "code",
        "colab": {}
      },
      "cell_type": "code",
      "source": [
        "classifier = Sequential()"
      ],
      "execution_count": 0,
      "outputs": []
    },
    {
      "metadata": {
        "id": "VvKcuJctTVC1",
        "colab_type": "code",
        "colab": {}
      },
      "cell_type": "code",
      "source": [
        "classifier.add(Conv2D(32, (3, 3), input_shape = (64, 64, 3), activation = 'relu'))"
      ],
      "execution_count": 0,
      "outputs": []
    },
    {
      "metadata": {
        "id": "W54Sy9kWTXDU",
        "colab_type": "code",
        "colab": {}
      },
      "cell_type": "code",
      "source": [
        "classifier.add(MaxPooling2D(pool_size = (2, 2)))"
      ],
      "execution_count": 0,
      "outputs": []
    },
    {
      "metadata": {
        "id": "CblreK0YTZiJ",
        "colab_type": "code",
        "colab": {}
      },
      "cell_type": "code",
      "source": [
        "classifier.add(Flatten())"
      ],
      "execution_count": 0,
      "outputs": []
    },
    {
      "metadata": {
        "id": "oHyfM9CoTbuz",
        "colab_type": "code",
        "colab": {}
      },
      "cell_type": "code",
      "source": [
        "classifier.add(Dense(units = 128, activation = 'relu'))\n"
      ],
      "execution_count": 0,
      "outputs": []
    },
    {
      "metadata": {
        "id": "FZGAfUfpTeTP",
        "colab_type": "code",
        "colab": {}
      },
      "cell_type": "code",
      "source": [
        "classifier.add(Dense(units = 1, activation = 'sigmoid'))"
      ],
      "execution_count": 0,
      "outputs": []
    },
    {
      "metadata": {
        "id": "2hzZnI-nTgop",
        "colab_type": "code",
        "colab": {}
      },
      "cell_type": "code",
      "source": [
        "classifier.compile(optimizer = 'adam', loss = 'binary_crossentropy', metrics = ['accuracy'])"
      ],
      "execution_count": 0,
      "outputs": []
    },
    {
      "metadata": {
        "id": "OCz6ZcjOTjIC",
        "colab_type": "code",
        "colab": {}
      },
      "cell_type": "code",
      "source": [
        ""
      ],
      "execution_count": 0,
      "outputs": []
    },
    {
      "metadata": {
        "id": "WjpzadmaytFI",
        "colab_type": "code",
        "colab": {
          "base_uri": "https://localhost:8080/",
          "height": 343
        },
        "outputId": "07659bf7-3bf5-4918-9463-8d545b5aa644"
      },
      "cell_type": "code",
      "source": [
        "!pip install PyDrive\n",
        "from pydrive.auth import GoogleAuth\n",
        "from pydrive.drive import GoogleDrive\n",
        "from google.colab import auth\n",
        "from oauth2client.client import GoogleCredentials\n",
        "\n",
        "# Authenticate and create the PyDrive client.\n",
        "# This only needs to be done once in a notebook.\n",
        "auth.authenticate_user()\n",
        "gauth = GoogleAuth()\n",
        "gauth.credentials = GoogleCredentials.get_application_default()\n",
        "drive = GoogleDrive(gauth)"
      ],
      "execution_count": 10,
      "outputs": [
        {
          "output_type": "stream",
          "text": [
            "Collecting PyDrive\n",
            "\u001b[?25l  Downloading https://files.pythonhosted.org/packages/52/e0/0e64788e5dd58ce2d6934549676243dc69d982f198524be9b99e9c2a4fd5/PyDrive-1.3.1.tar.gz (987kB)\n",
            "\u001b[K    100% |████████████████████████████████| 993kB 7.7MB/s \n",
            "\u001b[?25hRequirement already satisfied: google-api-python-client>=1.2 in /usr/local/lib/python3.6/dist-packages (from PyDrive) (1.6.7)\n",
            "Requirement already satisfied: oauth2client>=4.0.0 in /usr/local/lib/python3.6/dist-packages (from PyDrive) (4.1.3)\n",
            "Requirement already satisfied: PyYAML>=3.0 in /usr/local/lib/python3.6/dist-packages (from PyDrive) (3.13)\n",
            "Requirement already satisfied: uritemplate<4dev,>=3.0.0 in /usr/local/lib/python3.6/dist-packages (from google-api-python-client>=1.2->PyDrive) (3.0.0)\n",
            "Requirement already satisfied: httplib2<1dev,>=0.9.2 in /usr/local/lib/python3.6/dist-packages (from google-api-python-client>=1.2->PyDrive) (0.11.3)\n",
            "Requirement already satisfied: six<2dev,>=1.6.1 in /usr/local/lib/python3.6/dist-packages (from google-api-python-client>=1.2->PyDrive) (1.11.0)\n",
            "Requirement already satisfied: pyasn1>=0.1.7 in /usr/local/lib/python3.6/dist-packages (from oauth2client>=4.0.0->PyDrive) (0.4.4)\n",
            "Requirement already satisfied: rsa>=3.1.4 in /usr/local/lib/python3.6/dist-packages (from oauth2client>=4.0.0->PyDrive) (4.0)\n",
            "Requirement already satisfied: pyasn1-modules>=0.0.5 in /usr/local/lib/python3.6/dist-packages (from oauth2client>=4.0.0->PyDrive) (0.2.2)\n",
            "Building wheels for collected packages: PyDrive\n",
            "  Running setup.py bdist_wheel for PyDrive ... \u001b[?25l-\b \b\\\b \bdone\n",
            "\u001b[?25h  Stored in directory: /root/.cache/pip/wheels/fa/d2/9a/d3b6b506c2da98289e5d417215ce34b696db856643bad779f4\n",
            "Successfully built PyDrive\n",
            "Installing collected packages: PyDrive\n",
            "Successfully installed PyDrive-1.3.1\n"
          ],
          "name": "stdout"
        }
      ]
    },
    {
      "metadata": {
        "id": "JGoi8sASyuUg",
        "colab_type": "code",
        "colab": {
          "base_uri": "https://localhost:8080/",
          "height": 34
        },
        "outputId": "7d09cd89-ce18-45e5-9acc-db3bdb5998fe"
      },
      "cell_type": "code",
      "source": [
        "fileId = drive.CreateFile({'id': '1AA9ImeJvTWQl_abFo3xr9g62lh7GuMCR'}) #DRIVE_FILE_ID is file id example: 1iytA1n2z4go3uVCwE_vIKouTKyIDjEq\n",
        "print( fileId['title'])  # folder_data.zip\n",
        "fileId.GetContentFile('image_class.zip')  # Save Drive file as a local file"
      ],
      "execution_count": 12,
      "outputs": [
        {
          "output_type": "stream",
          "text": [
            "image_class.zip\n"
          ],
          "name": "stdout"
        }
      ]
    },
    {
      "metadata": {
        "id": "PW4NVbBBIZVA",
        "colab_type": "code",
        "colab": {
          "base_uri": "https://localhost:8080/",
          "height": 1326
        },
        "outputId": "5038e63a-9fd8-4273-9d5e-ed747fdbe799"
      },
      "cell_type": "code",
      "source": [
        "!unzip image_class.zip -d ./"
      ],
      "execution_count": 13,
      "outputs": [
        {
          "output_type": "stream",
          "text": [
            "Archive:  image_class.zip\n",
            "   creating: ./image_class/\n",
            "  inflating: ./image_class/classifier.ipynb  \n",
            "   creating: ./image_class/.ipynb_checkpoints/\n",
            "  inflating: ./image_class/.ipynb_checkpoints/classifier-checkpoint.ipynb  \n",
            "   creating: ./image_class/test/\n",
            "   creating: ./image_class/valid/\n",
            "   creating: ./image_class/train/\n",
            "   creating: ./image_class/test/dog/\n",
            "  inflating: ./image_class/test/dog/435.jpeg  \n",
            "  inflating: ./image_class/test/dog/543.jpeg  \n",
            "  inflating: ./image_class/test/dog/32.jpeg  \n",
            "  inflating: ./image_class/test/dog/3443.jpeg  \n",
            "  inflating: ./image_class/test/dog/dog.jpeg  \n",
            "   creating: ./image_class/test/cat/\n",
            "  inflating: ./image_class/test/cat/998.jpeg  \n",
            "  inflating: ./image_class/test/cat/cat.jpeg  \n",
            "  inflating: ./image_class/test/cat/89.jpeg  \n",
            "  inflating: ./image_class/test/cat/123.jpeg  \n",
            "  inflating: ./image_class/test/cat/323.jpeg  \n",
            "   creating: ./image_class/valid/dog/\n",
            "  inflating: ./image_class/valid/dog/32756.jpeg  \n",
            "  inflating: ./image_class/valid/dog/453.jpeg  \n",
            "  inflating: ./image_class/valid/dog/54.jpeg  \n",
            "  inflating: ./image_class/valid/dog/594.jpeg  \n",
            "  inflating: ./image_class/valid/dog/45.jpeg  \n",
            "  inflating: ./image_class/valid/dog/346.jpeg  \n",
            "   creating: ./image_class/valid/cat/\n",
            "  inflating: ./image_class/valid/cat/854.jpeg  \n",
            "  inflating: ./image_class/valid/cat/0808.jpeg  \n",
            "  inflating: ./image_class/valid/cat/897.jpeg  \n",
            "  inflating: ./image_class/valid/cat/324.jpeg  \n",
            "  inflating: ./image_class/valid/cat/456.jpeg  \n",
            "  inflating: ./image_class/valid/cat/123.jpeg  \n",
            "   creating: ./image_class/train/dog/\n",
            "  inflating: ./image_class/train/dog/2020.jpeg  \n",
            "  inflating: ./image_class/train/dog/1919.jpeg  \n",
            "  inflating: ./image_class/train/dog/1818.jpeg  \n",
            "  inflating: ./image_class/train/dog/1717.jpeg  \n",
            "  inflating: ./image_class/train/dog/1616.jpeg  \n",
            "  inflating: ./image_class/train/dog/1515.jpeg  \n",
            "  inflating: ./image_class/train/dog/1414.jpeg  \n",
            "  inflating: ./image_class/train/dog/1313.jpeg  \n",
            "  inflating: ./image_class/train/dog/1212.jpeg  \n",
            "  inflating: ./image_class/train/dog/1111.jpeg  \n",
            "  inflating: ./image_class/train/dog/99.jpeg  \n",
            "  inflating: ./image_class/train/dog/88.jpeg  \n",
            "  inflating: ./image_class/train/dog/66.jpeg  \n",
            "  inflating: ./image_class/train/dog/44.jpeg  \n",
            "  inflating: ./image_class/train/dog/77.jpeg  \n",
            "  inflating: ./image_class/train/dog/33.jpeg  \n",
            "  inflating: ./image_class/train/dog/22.jpeg  \n",
            "  inflating: ./image_class/train/dog/1010.jpeg  \n",
            "  inflating: ./image_class/train/dog/11.jpeg  \n",
            "  inflating: ./image_class/train/dog/55.jpeg  \n",
            "  inflating: ./image_class/train/dog/4.html  \n",
            "   creating: ./image_class/train/cat/\n",
            "  inflating: ./image_class/train/cat/20.jpeg  \n",
            "  inflating: ./image_class/train/cat/19.jpeg  \n",
            "  inflating: ./image_class/train/cat/17.jpeg  \n",
            "  inflating: ./image_class/train/cat/18.jpeg  \n",
            "  inflating: ./image_class/train/cat/15.jpeg  \n",
            "  inflating: ./image_class/train/cat/14.jpeg  \n",
            "  inflating: ./image_class/train/cat/13.jpeg  \n",
            "  inflating: ./image_class/train/cat/12.jpeg  \n",
            "  inflating: ./image_class/train/cat/11.jpeg  \n",
            "  inflating: ./image_class/train/cat/10.jpeg  \n",
            "  inflating: ./image_class/train/cat/9.jpeg  \n",
            "  inflating: ./image_class/train/cat/8.jpeg  \n",
            "  inflating: ./image_class/train/cat/7.jpeg  \n",
            "  inflating: ./image_class/train/cat/5.jpeg  \n",
            "  inflating: ./image_class/train/cat/4.jpeg  \n",
            "  inflating: ./image_class/train/cat/6.jpeg  \n",
            "  inflating: ./image_class/train/cat/3.jpeg  \n",
            "  inflating: ./image_class/train/cat/2.jpeg  \n",
            "  inflating: ./image_class/train/cat/1.jpeg  \n",
            "  inflating: ./image_class/train/cat/16.jpeg  \n"
          ],
          "name": "stdout"
        }
      ]
    },
    {
      "metadata": {
        "id": "Oh28-TsIIjgM",
        "colab_type": "code",
        "colab": {
          "base_uri": "https://localhost:8080/",
          "height": 51
        },
        "outputId": "eec7ec02-f048-4b82-d99c-b2613d07b9b1"
      },
      "cell_type": "code",
      "source": [
        "\n",
        "from keras.preprocessing.image import ImageDataGenerator\n",
        "#  from google.colab import drive\n",
        "#  drive.mount(\"/content/drive/My Drive/image_class/\")\n",
        "#  !ls \"/content/drive/My Drive/image_class/\"\n",
        "train_datagen = ImageDataGenerator(rescale = 1./255,\n",
        "shear_range = 0.2,\n",
        "zoom_range = 0.2,\n",
        "horizontal_flip = True)\n",
        "test_datagen = ImageDataGenerator(rescale = 1./255)\n",
        "training_set = train_datagen.flow_from_directory('image_class/train',\n",
        "target_size = (64, 64),\n",
        "batch_size = 32,\n",
        "class_mode = 'binary')\n",
        "test_set = test_datagen.flow_from_directory('image_class/test',\n",
        "target_size = (64, 64),\n",
        "batch_size = 32,\n",
        "class_mode = 'binary')\n"
      ],
      "execution_count": 14,
      "outputs": [
        {
          "output_type": "stream",
          "text": [
            "Found 40 images belonging to 2 classes.\n",
            "Found 10 images belonging to 2 classes.\n"
          ],
          "name": "stdout"
        }
      ]
    },
    {
      "metadata": {
        "id": "Gk0XMkFCIprN",
        "colab_type": "code",
        "colab": {
          "base_uri": "https://localhost:8080/",
          "height": 884
        },
        "outputId": "f7dfe434-0ce6-4a3e-942f-77d316622f99"
      },
      "cell_type": "code",
      "source": [
        "classifier.fit_generator(training_set,\n",
        "steps_per_epoch = 800,\n",
        "epochs = 25,\n",
        "validation_data = test_set,\n",
        "validation_steps = 200)"
      ],
      "execution_count": 28,
      "outputs": [
        {
          "output_type": "stream",
          "text": [
            "Epoch 1/25\n",
            "800/800 [==============================] - 47s 59ms/step - loss: 2.1179e-06 - acc: 1.0000 - val_loss: 2.1851 - val_acc: 0.8000\n",
            "Epoch 2/25\n",
            "800/800 [==============================] - 47s 58ms/step - loss: 1.2572e-06 - acc: 1.0000 - val_loss: 2.1078 - val_acc: 0.8000\n",
            "Epoch 3/25\n",
            "800/800 [==============================] - 47s 58ms/step - loss: 8.3450e-07 - acc: 1.0000 - val_loss: 2.3004 - val_acc: 0.8000\n",
            "Epoch 4/25\n",
            "800/800 [==============================] - 46s 58ms/step - loss: 5.9599e-07 - acc: 1.0000 - val_loss: 2.2370 - val_acc: 0.8000\n",
            "Epoch 5/25\n",
            "800/800 [==============================] - 46s 58ms/step - loss: 3.8556e-07 - acc: 1.0000 - val_loss: 2.3166 - val_acc: 0.8000\n",
            "Epoch 6/25\n",
            "800/800 [==============================] - 47s 59ms/step - loss: 3.2700e-07 - acc: 1.0000 - val_loss: 2.3025 - val_acc: 0.8000\n",
            "Epoch 7/25\n",
            "800/800 [==============================] - 47s 59ms/step - loss: 0.0198 - acc: 0.9966 - val_loss: 2.1566 - val_acc: 0.8000\n",
            "Epoch 8/25\n",
            "800/800 [==============================] - 47s 59ms/step - loss: 1.3934e-04 - acc: 1.0000 - val_loss: 2.2686 - val_acc: 0.8000\n",
            "Epoch 9/25\n",
            "800/800 [==============================] - 47s 59ms/step - loss: 1.2866e-04 - acc: 1.0000 - val_loss: 2.1129 - val_acc: 0.8000\n",
            "Epoch 10/25\n",
            "800/800 [==============================] - 47s 58ms/step - loss: 4.6370e-05 - acc: 1.0000 - val_loss: 2.1645 - val_acc: 0.8000\n",
            "Epoch 11/25\n",
            "800/800 [==============================] - 46s 57ms/step - loss: 3.3056e-05 - acc: 1.0000 - val_loss: 2.1968 - val_acc: 0.8000\n",
            "Epoch 12/25\n",
            "800/800 [==============================] - 46s 57ms/step - loss: 2.2596e-05 - acc: 1.0000 - val_loss: 2.2120 - val_acc: 0.8000\n",
            "Epoch 13/25\n",
            "800/800 [==============================] - 45s 57ms/step - loss: 1.3871e-05 - acc: 1.0000 - val_loss: 2.3293 - val_acc: 0.7000\n",
            "Epoch 14/25\n",
            "800/800 [==============================] - 46s 57ms/step - loss: 9.0103e-06 - acc: 1.0000 - val_loss: 2.0891 - val_acc: 0.8000\n",
            "Epoch 15/25\n",
            "800/800 [==============================] - 46s 57ms/step - loss: 6.0525e-06 - acc: 1.0000 - val_loss: 2.2228 - val_acc: 0.7000\n",
            "Epoch 16/25\n",
            "800/800 [==============================] - 46s 57ms/step - loss: 4.9871e-06 - acc: 1.0000 - val_loss: 2.1811 - val_acc: 0.7000\n",
            "Epoch 17/25\n",
            "800/800 [==============================] - 46s 57ms/step - loss: 2.8179e-06 - acc: 1.0000 - val_loss: 2.1202 - val_acc: 0.7000\n",
            "Epoch 18/25\n",
            "800/800 [==============================] - 45s 56ms/step - loss: 1.7951e-06 - acc: 1.0000 - val_loss: 2.1909 - val_acc: 0.7000\n",
            "Epoch 19/25\n",
            "800/800 [==============================] - 45s 56ms/step - loss: 1.2614e-06 - acc: 1.0000 - val_loss: 2.1263 - val_acc: 0.7000\n",
            "Epoch 20/25\n",
            "800/800 [==============================] - 45s 57ms/step - loss: 8.3920e-07 - acc: 1.0000 - val_loss: 2.1177 - val_acc: 0.7000\n",
            "Epoch 21/25\n",
            "800/800 [==============================] - 46s 57ms/step - loss: 7.4547e-07 - acc: 1.0000 - val_loss: 2.0774 - val_acc: 0.7000\n",
            "Epoch 22/25\n",
            "800/800 [==============================] - 45s 57ms/step - loss: 6.0200e-07 - acc: 1.0000 - val_loss: 2.1712 - val_acc: 0.7000\n",
            "Epoch 23/25\n",
            "800/800 [==============================] - 45s 57ms/step - loss: 3.0717e-07 - acc: 1.0000 - val_loss: 2.1793 - val_acc: 0.7000\n",
            "Epoch 24/25\n",
            "800/800 [==============================] - 44s 55ms/step - loss: 0.0063 - acc: 0.9987 - val_loss: 1.7048 - val_acc: 0.8000\n",
            "Epoch 25/25\n",
            "800/800 [==============================] - 45s 56ms/step - loss: 6.9517e-06 - acc: 1.0000 - val_loss: 1.6708 - val_acc: 0.9000\n"
          ],
          "name": "stdout"
        },
        {
          "output_type": "execute_result",
          "data": {
            "text/plain": [
              "<keras.callbacks.History at 0x7f441a16beb8>"
            ]
          },
          "metadata": {
            "tags": []
          },
          "execution_count": 28
        }
      ]
    },
    {
      "metadata": {
        "id": "BpUIPEo-JR1V",
        "colab_type": "code",
        "colab": {
          "base_uri": "https://localhost:8080/",
          "height": 487
        },
        "outputId": "83ea03ad-6b3a-4d2a-d8f8-639e1a2e1bab"
      },
      "cell_type": "code",
      "source": [
        "import numpy as np\n",
        "from keras.preprocessing import image\n",
        "test_image = image.load_img('image_class/valid/dog/594.jpeg', target_size = (64, 64))\n",
        "test_image = image.img_to_array(test_image)\n",
        "test_image = np.expand_dims(test_image, axis = 0)\n",
        "result = classifier.predict(test_image)\n",
        "training_set.class_indices\n",
        "if result[0][0] == 1:\n",
        "    prediction = 'dog'\n",
        "else:\n",
        "   prediction = 'cat'\n",
        "print(prediction)"
      ],
      "execution_count": 1,
      "outputs": [
        {
          "output_type": "stream",
          "text": [
            "Using TensorFlow backend.\n"
          ],
          "name": "stderr"
        },
        {
          "output_type": "error",
          "ename": "FileNotFoundError",
          "evalue": "ignored",
          "traceback": [
            "\u001b[0;31m---------------------------------------------------------------------------\u001b[0m",
            "\u001b[0;31mFileNotFoundError\u001b[0m                         Traceback (most recent call last)",
            "\u001b[0;32m<ipython-input-1-ce74f818c107>\u001b[0m in \u001b[0;36m<module>\u001b[0;34m()\u001b[0m\n\u001b[1;32m      1\u001b[0m \u001b[0;32mimport\u001b[0m \u001b[0mnumpy\u001b[0m \u001b[0;32mas\u001b[0m \u001b[0mnp\u001b[0m\u001b[0;34m\u001b[0m\u001b[0m\n\u001b[1;32m      2\u001b[0m \u001b[0;32mfrom\u001b[0m \u001b[0mkeras\u001b[0m\u001b[0;34m.\u001b[0m\u001b[0mpreprocessing\u001b[0m \u001b[0;32mimport\u001b[0m \u001b[0mimage\u001b[0m\u001b[0;34m\u001b[0m\u001b[0m\n\u001b[0;32m----> 3\u001b[0;31m \u001b[0mtest_image\u001b[0m \u001b[0;34m=\u001b[0m \u001b[0mimage\u001b[0m\u001b[0;34m.\u001b[0m\u001b[0mload_img\u001b[0m\u001b[0;34m(\u001b[0m\u001b[0;34m'image_class/valid/dog/594.jpeg'\u001b[0m\u001b[0;34m,\u001b[0m \u001b[0mtarget_size\u001b[0m \u001b[0;34m=\u001b[0m \u001b[0;34m(\u001b[0m\u001b[0;36m64\u001b[0m\u001b[0;34m,\u001b[0m \u001b[0;36m64\u001b[0m\u001b[0;34m)\u001b[0m\u001b[0;34m)\u001b[0m\u001b[0;34m\u001b[0m\u001b[0m\n\u001b[0m\u001b[1;32m      4\u001b[0m \u001b[0mtest_image\u001b[0m \u001b[0;34m=\u001b[0m \u001b[0mimage\u001b[0m\u001b[0;34m.\u001b[0m\u001b[0mimg_to_array\u001b[0m\u001b[0;34m(\u001b[0m\u001b[0mtest_image\u001b[0m\u001b[0;34m)\u001b[0m\u001b[0;34m\u001b[0m\u001b[0m\n\u001b[1;32m      5\u001b[0m \u001b[0mtest_image\u001b[0m \u001b[0;34m=\u001b[0m \u001b[0mnp\u001b[0m\u001b[0;34m.\u001b[0m\u001b[0mexpand_dims\u001b[0m\u001b[0;34m(\u001b[0m\u001b[0mtest_image\u001b[0m\u001b[0;34m,\u001b[0m \u001b[0maxis\u001b[0m \u001b[0;34m=\u001b[0m \u001b[0;36m0\u001b[0m\u001b[0;34m)\u001b[0m\u001b[0;34m\u001b[0m\u001b[0m\n",
            "\u001b[0;32m/usr/local/lib/python3.6/dist-packages/keras_preprocessing/image.py\u001b[0m in \u001b[0;36mload_img\u001b[0;34m(path, grayscale, color_mode, target_size, interpolation)\u001b[0m\n\u001b[1;32m    496\u001b[0m         raise ImportError('Could not import PIL.Image. '\n\u001b[1;32m    497\u001b[0m                           'The use of `array_to_img` requires PIL.')\n\u001b[0;32m--> 498\u001b[0;31m     \u001b[0mimg\u001b[0m \u001b[0;34m=\u001b[0m \u001b[0mpil_image\u001b[0m\u001b[0;34m.\u001b[0m\u001b[0mopen\u001b[0m\u001b[0;34m(\u001b[0m\u001b[0mpath\u001b[0m\u001b[0;34m)\u001b[0m\u001b[0;34m\u001b[0m\u001b[0m\n\u001b[0m\u001b[1;32m    499\u001b[0m     \u001b[0;32mif\u001b[0m \u001b[0mcolor_mode\u001b[0m \u001b[0;34m==\u001b[0m \u001b[0;34m'grayscale'\u001b[0m\u001b[0;34m:\u001b[0m\u001b[0;34m\u001b[0m\u001b[0m\n\u001b[1;32m    500\u001b[0m         \u001b[0;32mif\u001b[0m \u001b[0mimg\u001b[0m\u001b[0;34m.\u001b[0m\u001b[0mmode\u001b[0m \u001b[0;34m!=\u001b[0m \u001b[0;34m'L'\u001b[0m\u001b[0;34m:\u001b[0m\u001b[0;34m\u001b[0m\u001b[0m\n",
            "\u001b[0;32m/usr/local/lib/python3.6/dist-packages/PIL/Image.py\u001b[0m in \u001b[0;36mopen\u001b[0;34m(fp, mode)\u001b[0m\n\u001b[1;32m   2310\u001b[0m \u001b[0;34m\u001b[0m\u001b[0m\n\u001b[1;32m   2311\u001b[0m     \u001b[0;32mif\u001b[0m \u001b[0mfilename\u001b[0m\u001b[0;34m:\u001b[0m\u001b[0;34m\u001b[0m\u001b[0m\n\u001b[0;32m-> 2312\u001b[0;31m         \u001b[0mfp\u001b[0m \u001b[0;34m=\u001b[0m \u001b[0mbuiltins\u001b[0m\u001b[0;34m.\u001b[0m\u001b[0mopen\u001b[0m\u001b[0;34m(\u001b[0m\u001b[0mfilename\u001b[0m\u001b[0;34m,\u001b[0m \u001b[0;34m\"rb\"\u001b[0m\u001b[0;34m)\u001b[0m\u001b[0;34m\u001b[0m\u001b[0m\n\u001b[0m\u001b[1;32m   2313\u001b[0m \u001b[0;34m\u001b[0m\u001b[0m\n\u001b[1;32m   2314\u001b[0m     \u001b[0;32mtry\u001b[0m\u001b[0;34m:\u001b[0m\u001b[0;34m\u001b[0m\u001b[0m\n",
            "\u001b[0;31mFileNotFoundError\u001b[0m: [Errno 2] No such file or directory: 'image_class/valid/dog/594.jpeg'"
          ]
        }
      ]
    },
    {
      "metadata": {
        "id": "Ny0b0WzQjKji",
        "colab_type": "code",
        "colab": {}
      },
      "cell_type": "code",
      "source": [
        ""
      ],
      "execution_count": 0,
      "outputs": []
    }
  ]
}